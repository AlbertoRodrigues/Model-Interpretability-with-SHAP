{
 "cells": [
  {
   "cell_type": "code",
   "execution_count": 53,
   "id": "41f0d553",
   "metadata": {},
   "outputs": [],
   "source": [
    "import pandas as pd\n",
    "import numpy as np\n",
    "from sklearn.ensemble import RandomForestClassifier, AdaBoostClassifier, VotingClassifier\n",
    "from sklearn.linear_model import LogisticRegression\n",
    "from sklearn.model_selection import train_test_split\n",
    "import shap"
   ]
  },
  {
   "cell_type": "code",
   "execution_count": 6,
   "id": "26d20663",
   "metadata": {},
   "outputs": [],
   "source": [
    "dados=pd.read_csv(\"dados//diabetes.csv\")"
   ]
  },
  {
   "cell_type": "code",
   "execution_count": 7,
   "id": "e8e9ec6f",
   "metadata": {},
   "outputs": [
    {
     "data": {
      "text/html": [
       "<div>\n",
       "<style scoped>\n",
       "    .dataframe tbody tr th:only-of-type {\n",
       "        vertical-align: middle;\n",
       "    }\n",
       "\n",
       "    .dataframe tbody tr th {\n",
       "        vertical-align: top;\n",
       "    }\n",
       "\n",
       "    .dataframe thead th {\n",
       "        text-align: right;\n",
       "    }\n",
       "</style>\n",
       "<table border=\"1\" class=\"dataframe\">\n",
       "  <thead>\n",
       "    <tr style=\"text-align: right;\">\n",
       "      <th></th>\n",
       "      <th>pregnancies</th>\n",
       "      <th>glucose</th>\n",
       "      <th>diastolic</th>\n",
       "      <th>triceps</th>\n",
       "      <th>insulin</th>\n",
       "      <th>bmi</th>\n",
       "      <th>dpf</th>\n",
       "      <th>age</th>\n",
       "      <th>diabetes</th>\n",
       "    </tr>\n",
       "  </thead>\n",
       "  <tbody>\n",
       "    <tr>\n",
       "      <th>0</th>\n",
       "      <td>6</td>\n",
       "      <td>148</td>\n",
       "      <td>72</td>\n",
       "      <td>35</td>\n",
       "      <td>0</td>\n",
       "      <td>33.6</td>\n",
       "      <td>0.627</td>\n",
       "      <td>50</td>\n",
       "      <td>1</td>\n",
       "    </tr>\n",
       "    <tr>\n",
       "      <th>1</th>\n",
       "      <td>1</td>\n",
       "      <td>85</td>\n",
       "      <td>66</td>\n",
       "      <td>29</td>\n",
       "      <td>0</td>\n",
       "      <td>26.6</td>\n",
       "      <td>0.351</td>\n",
       "      <td>31</td>\n",
       "      <td>0</td>\n",
       "    </tr>\n",
       "    <tr>\n",
       "      <th>2</th>\n",
       "      <td>8</td>\n",
       "      <td>183</td>\n",
       "      <td>64</td>\n",
       "      <td>0</td>\n",
       "      <td>0</td>\n",
       "      <td>23.3</td>\n",
       "      <td>0.672</td>\n",
       "      <td>32</td>\n",
       "      <td>1</td>\n",
       "    </tr>\n",
       "    <tr>\n",
       "      <th>3</th>\n",
       "      <td>1</td>\n",
       "      <td>89</td>\n",
       "      <td>66</td>\n",
       "      <td>23</td>\n",
       "      <td>94</td>\n",
       "      <td>28.1</td>\n",
       "      <td>0.167</td>\n",
       "      <td>21</td>\n",
       "      <td>0</td>\n",
       "    </tr>\n",
       "    <tr>\n",
       "      <th>4</th>\n",
       "      <td>0</td>\n",
       "      <td>137</td>\n",
       "      <td>40</td>\n",
       "      <td>35</td>\n",
       "      <td>168</td>\n",
       "      <td>43.1</td>\n",
       "      <td>2.288</td>\n",
       "      <td>33</td>\n",
       "      <td>1</td>\n",
       "    </tr>\n",
       "  </tbody>\n",
       "</table>\n",
       "</div>"
      ],
      "text/plain": [
       "   pregnancies  glucose  diastolic  triceps  insulin   bmi    dpf  age  \\\n",
       "0            6      148         72       35        0  33.6  0.627   50   \n",
       "1            1       85         66       29        0  26.6  0.351   31   \n",
       "2            8      183         64        0        0  23.3  0.672   32   \n",
       "3            1       89         66       23       94  28.1  0.167   21   \n",
       "4            0      137         40       35      168  43.1  2.288   33   \n",
       "\n",
       "   diabetes  \n",
       "0         1  \n",
       "1         0  \n",
       "2         1  \n",
       "3         0  \n",
       "4         1  "
      ]
     },
     "execution_count": 7,
     "metadata": {},
     "output_type": "execute_result"
    }
   ],
   "source": [
    "dados.head()"
   ]
  },
  {
   "cell_type": "code",
   "execution_count": 8,
   "id": "d33fc68f",
   "metadata": {},
   "outputs": [],
   "source": [
    "X=dados.drop([\"diabetes\"], axis=1)\n",
    "y=dados[\"diabetes\"]"
   ]
  },
  {
   "cell_type": "code",
   "execution_count": 10,
   "id": "b6dcbe0b",
   "metadata": {},
   "outputs": [],
   "source": [
    "X_train, X_test, y_train, y_test = train_test_split(X, y, test_size=0.3, random_state=7)"
   ]
  },
  {
   "cell_type": "code",
   "execution_count": 69,
   "id": "2638d476",
   "metadata": {},
   "outputs": [],
   "source": [
    "#model=LogisticRegression()\n",
    "model=RandomForestClassifier()\n",
    "#model=VotingClassifier(estimators=[(\"lr\", LogisticRegression()),(\"ada\", AdaBoostClassifier())])"
   ]
  },
  {
   "cell_type": "code",
   "execution_count": 70,
   "id": "9107c1d9",
   "metadata": {},
   "outputs": [
    {
     "data": {
      "text/plain": [
       "RandomForestClassifier()"
      ]
     },
     "execution_count": 70,
     "metadata": {},
     "output_type": "execute_result"
    }
   ],
   "source": [
    "model.fit(X_train, y_train)"
   ]
  },
  {
   "cell_type": "code",
   "execution_count": 67,
   "id": "2ce9c0ce",
   "metadata": {},
   "outputs": [],
   "source": [
    "explainer = shap.Explainer(model, X_train, check_additivity=False)"
   ]
  },
  {
   "cell_type": "code",
   "execution_count": 68,
   "id": "788d5ee7",
   "metadata": {},
   "outputs": [
    {
     "ename": "ExplainerError",
     "evalue": "Additivity check failed in TreeExplainer! Please ensure the data matrix you passed to the explainer is the same shape that the model was trained on. If your data shape is correct then please report this on GitHub. This check failed because for one of the samples the sum of the SHAP values was 0.480100, while the model output was 0.470000. If this difference is acceptable you can set check_additivity=False to disable this check.",
     "output_type": "error",
     "traceback": [
      "\u001b[1;31m---------------------------------------------------------------------------\u001b[0m",
      "\u001b[1;31mExplainerError\u001b[0m                            Traceback (most recent call last)",
      "\u001b[1;32m~\\AppData\\Local\\Temp/ipykernel_2328/99256934.py\u001b[0m in \u001b[0;36m<module>\u001b[1;34m\u001b[0m\n\u001b[1;32m----> 1\u001b[1;33m \u001b[0mshap_values\u001b[0m\u001b[1;33m=\u001b[0m\u001b[0mexplainer\u001b[0m\u001b[1;33m(\u001b[0m\u001b[0mX_test\u001b[0m\u001b[1;33m)\u001b[0m\u001b[1;33m\u001b[0m\u001b[1;33m\u001b[0m\u001b[0m\n\u001b[0m",
      "\u001b[1;32m~\\anaconda3\\lib\\site-packages\\shap\\explainers\\_tree.py\u001b[0m in \u001b[0;36m__call__\u001b[1;34m(self, X, y, interactions, check_additivity)\u001b[0m\n\u001b[0;32m    215\u001b[0m \u001b[1;33m\u001b[0m\u001b[0m\n\u001b[0;32m    216\u001b[0m         \u001b[1;32mif\u001b[0m \u001b[1;32mnot\u001b[0m \u001b[0minteractions\u001b[0m\u001b[1;33m:\u001b[0m\u001b[1;33m\u001b[0m\u001b[1;33m\u001b[0m\u001b[0m\n\u001b[1;32m--> 217\u001b[1;33m             \u001b[0mv\u001b[0m \u001b[1;33m=\u001b[0m \u001b[0mself\u001b[0m\u001b[1;33m.\u001b[0m\u001b[0mshap_values\u001b[0m\u001b[1;33m(\u001b[0m\u001b[0mX\u001b[0m\u001b[1;33m,\u001b[0m \u001b[0my\u001b[0m\u001b[1;33m=\u001b[0m\u001b[0my\u001b[0m\u001b[1;33m,\u001b[0m \u001b[0mfrom_call\u001b[0m\u001b[1;33m=\u001b[0m\u001b[1;32mTrue\u001b[0m\u001b[1;33m,\u001b[0m \u001b[0mcheck_additivity\u001b[0m\u001b[1;33m=\u001b[0m\u001b[0mcheck_additivity\u001b[0m\u001b[1;33m,\u001b[0m \u001b[0mapproximate\u001b[0m\u001b[1;33m=\u001b[0m\u001b[0mself\u001b[0m\u001b[1;33m.\u001b[0m\u001b[0mapproximate\u001b[0m\u001b[1;33m)\u001b[0m\u001b[1;33m\u001b[0m\u001b[1;33m\u001b[0m\u001b[0m\n\u001b[0m\u001b[0;32m    218\u001b[0m             \u001b[1;32mif\u001b[0m \u001b[0mtype\u001b[0m\u001b[1;33m(\u001b[0m\u001b[0mv\u001b[0m\u001b[1;33m)\u001b[0m \u001b[1;32mis\u001b[0m \u001b[0mlist\u001b[0m\u001b[1;33m:\u001b[0m\u001b[1;33m\u001b[0m\u001b[1;33m\u001b[0m\u001b[0m\n\u001b[0;32m    219\u001b[0m                 \u001b[0mv\u001b[0m \u001b[1;33m=\u001b[0m \u001b[0mnp\u001b[0m\u001b[1;33m.\u001b[0m\u001b[0mstack\u001b[0m\u001b[1;33m(\u001b[0m\u001b[0mv\u001b[0m\u001b[1;33m,\u001b[0m \u001b[0maxis\u001b[0m\u001b[1;33m=\u001b[0m\u001b[1;33m-\u001b[0m\u001b[1;36m1\u001b[0m\u001b[1;33m)\u001b[0m \u001b[1;31m# put outputs at the end\u001b[0m\u001b[1;33m\u001b[0m\u001b[1;33m\u001b[0m\u001b[0m\n",
      "\u001b[1;32m~\\anaconda3\\lib\\site-packages\\shap\\explainers\\_tree.py\u001b[0m in \u001b[0;36mshap_values\u001b[1;34m(self, X, y, tree_limit, approximate, check_additivity, from_call)\u001b[0m\n\u001b[0;32m    408\u001b[0m         \u001b[0mout\u001b[0m \u001b[1;33m=\u001b[0m \u001b[0mself\u001b[0m\u001b[1;33m.\u001b[0m\u001b[0m_get_shap_output\u001b[0m\u001b[1;33m(\u001b[0m\u001b[0mphi\u001b[0m\u001b[1;33m,\u001b[0m \u001b[0mflat_output\u001b[0m\u001b[1;33m)\u001b[0m\u001b[1;33m\u001b[0m\u001b[1;33m\u001b[0m\u001b[0m\n\u001b[0;32m    409\u001b[0m         \u001b[1;32mif\u001b[0m \u001b[0mcheck_additivity\u001b[0m \u001b[1;32mand\u001b[0m \u001b[0mself\u001b[0m\u001b[1;33m.\u001b[0m\u001b[0mmodel\u001b[0m\u001b[1;33m.\u001b[0m\u001b[0mmodel_output\u001b[0m \u001b[1;33m==\u001b[0m \u001b[1;34m\"raw\"\u001b[0m\u001b[1;33m:\u001b[0m\u001b[1;33m\u001b[0m\u001b[1;33m\u001b[0m\u001b[0m\n\u001b[1;32m--> 410\u001b[1;33m             \u001b[0mself\u001b[0m\u001b[1;33m.\u001b[0m\u001b[0massert_additivity\u001b[0m\u001b[1;33m(\u001b[0m\u001b[0mout\u001b[0m\u001b[1;33m,\u001b[0m \u001b[0mself\u001b[0m\u001b[1;33m.\u001b[0m\u001b[0mmodel\u001b[0m\u001b[1;33m.\u001b[0m\u001b[0mpredict\u001b[0m\u001b[1;33m(\u001b[0m\u001b[0mX\u001b[0m\u001b[1;33m)\u001b[0m\u001b[1;33m)\u001b[0m\u001b[1;33m\u001b[0m\u001b[1;33m\u001b[0m\u001b[0m\n\u001b[0m\u001b[0;32m    411\u001b[0m \u001b[1;33m\u001b[0m\u001b[0m\n\u001b[0;32m    412\u001b[0m         \u001b[1;32mreturn\u001b[0m \u001b[0mout\u001b[0m\u001b[1;33m\u001b[0m\u001b[1;33m\u001b[0m\u001b[0m\n",
      "\u001b[1;32m~\\anaconda3\\lib\\site-packages\\shap\\explainers\\_tree.py\u001b[0m in \u001b[0;36massert_additivity\u001b[1;34m(self, phi, model_output)\u001b[0m\n\u001b[0;32m    540\u001b[0m         \u001b[1;32mif\u001b[0m \u001b[0mtype\u001b[0m\u001b[1;33m(\u001b[0m\u001b[0mphi\u001b[0m\u001b[1;33m)\u001b[0m \u001b[1;32mis\u001b[0m \u001b[0mlist\u001b[0m\u001b[1;33m:\u001b[0m\u001b[1;33m\u001b[0m\u001b[1;33m\u001b[0m\u001b[0m\n\u001b[0;32m    541\u001b[0m             \u001b[1;32mfor\u001b[0m \u001b[0mi\u001b[0m \u001b[1;32min\u001b[0m \u001b[0mrange\u001b[0m\u001b[1;33m(\u001b[0m\u001b[0mlen\u001b[0m\u001b[1;33m(\u001b[0m\u001b[0mphi\u001b[0m\u001b[1;33m)\u001b[0m\u001b[1;33m)\u001b[0m\u001b[1;33m:\u001b[0m\u001b[1;33m\u001b[0m\u001b[1;33m\u001b[0m\u001b[0m\n\u001b[1;32m--> 542\u001b[1;33m                 \u001b[0mcheck_sum\u001b[0m\u001b[1;33m(\u001b[0m\u001b[0mself\u001b[0m\u001b[1;33m.\u001b[0m\u001b[0mexpected_value\u001b[0m\u001b[1;33m[\u001b[0m\u001b[0mi\u001b[0m\u001b[1;33m]\u001b[0m \u001b[1;33m+\u001b[0m \u001b[0mphi\u001b[0m\u001b[1;33m[\u001b[0m\u001b[0mi\u001b[0m\u001b[1;33m]\u001b[0m\u001b[1;33m.\u001b[0m\u001b[0msum\u001b[0m\u001b[1;33m(\u001b[0m\u001b[1;33m-\u001b[0m\u001b[1;36m1\u001b[0m\u001b[1;33m)\u001b[0m\u001b[1;33m,\u001b[0m \u001b[0mmodel_output\u001b[0m\u001b[1;33m[\u001b[0m\u001b[1;33m:\u001b[0m\u001b[1;33m,\u001b[0m\u001b[0mi\u001b[0m\u001b[1;33m]\u001b[0m\u001b[1;33m)\u001b[0m\u001b[1;33m\u001b[0m\u001b[1;33m\u001b[0m\u001b[0m\n\u001b[0m\u001b[0;32m    543\u001b[0m         \u001b[1;32melse\u001b[0m\u001b[1;33m:\u001b[0m\u001b[1;33m\u001b[0m\u001b[1;33m\u001b[0m\u001b[0m\n\u001b[0;32m    544\u001b[0m             \u001b[0mcheck_sum\u001b[0m\u001b[1;33m(\u001b[0m\u001b[0mself\u001b[0m\u001b[1;33m.\u001b[0m\u001b[0mexpected_value\u001b[0m \u001b[1;33m+\u001b[0m \u001b[0mphi\u001b[0m\u001b[1;33m.\u001b[0m\u001b[0msum\u001b[0m\u001b[1;33m(\u001b[0m\u001b[1;33m-\u001b[0m\u001b[1;36m1\u001b[0m\u001b[1;33m)\u001b[0m\u001b[1;33m,\u001b[0m \u001b[0mmodel_output\u001b[0m\u001b[1;33m)\u001b[0m\u001b[1;33m\u001b[0m\u001b[1;33m\u001b[0m\u001b[0m\n",
      "\u001b[1;32m~\\anaconda3\\lib\\site-packages\\shap\\explainers\\_tree.py\u001b[0m in \u001b[0;36mcheck_sum\u001b[1;34m(sum_val, model_output)\u001b[0m\n\u001b[0;32m    536\u001b[0m                            \u001b[1;34m\" was %f, while the model output was %f. If this difference is acceptable\"\u001b[0m\u001b[0;31m \u001b[0m\u001b[0;31m\\\u001b[0m\u001b[1;33m\u001b[0m\u001b[1;33m\u001b[0m\u001b[0m\n\u001b[0;32m    537\u001b[0m                            \u001b[1;34m\" you can set check_additivity=False to disable this check.\"\u001b[0m \u001b[1;33m%\u001b[0m \u001b[1;33m(\u001b[0m\u001b[0msum_val\u001b[0m\u001b[1;33m[\u001b[0m\u001b[0mind\u001b[0m\u001b[1;33m]\u001b[0m\u001b[1;33m,\u001b[0m \u001b[0mmodel_output\u001b[0m\u001b[1;33m[\u001b[0m\u001b[0mind\u001b[0m\u001b[1;33m]\u001b[0m\u001b[1;33m)\u001b[0m\u001b[1;33m\u001b[0m\u001b[1;33m\u001b[0m\u001b[0m\n\u001b[1;32m--> 538\u001b[1;33m                 \u001b[1;32mraise\u001b[0m \u001b[0mExplainerError\u001b[0m\u001b[1;33m(\u001b[0m\u001b[0merr_msg\u001b[0m\u001b[1;33m)\u001b[0m\u001b[1;33m\u001b[0m\u001b[1;33m\u001b[0m\u001b[0m\n\u001b[0m\u001b[0;32m    539\u001b[0m \u001b[1;33m\u001b[0m\u001b[0m\n\u001b[0;32m    540\u001b[0m         \u001b[1;32mif\u001b[0m \u001b[0mtype\u001b[0m\u001b[1;33m(\u001b[0m\u001b[0mphi\u001b[0m\u001b[1;33m)\u001b[0m \u001b[1;32mis\u001b[0m \u001b[0mlist\u001b[0m\u001b[1;33m:\u001b[0m\u001b[1;33m\u001b[0m\u001b[1;33m\u001b[0m\u001b[0m\n",
      "\u001b[1;31mExplainerError\u001b[0m: Additivity check failed in TreeExplainer! Please ensure the data matrix you passed to the explainer is the same shape that the model was trained on. If your data shape is correct then please report this on GitHub. This check failed because for one of the samples the sum of the SHAP values was 0.480100, while the model output was 0.470000. If this difference is acceptable you can set check_additivity=False to disable this check."
     ]
    }
   ],
   "source": [
    "shap_values=explainer(X_test)"
   ]
  },
  {
   "cell_type": "code",
   "execution_count": 46,
   "id": "cb75b3e5",
   "metadata": {},
   "outputs": [
    {
     "data": {
      "text/plain": [
       ".values =\n",
       "array([[[ 2.78624996e-02, -2.78624999e-02],\n",
       "        [ 1.43397973e-01, -1.43397975e-01],\n",
       "        [ 1.59964248e-03, -1.59964271e-03],\n",
       "        ...,\n",
       "        [ 3.55148798e-02, -3.55148810e-02],\n",
       "        [-9.46892831e-03,  9.46892890e-03],\n",
       "        [ 6.02420218e-02, -6.02420235e-02]],\n",
       "\n",
       "       [[-3.48521430e-02,  3.48521420e-02],\n",
       "        [-2.66533092e-01,  2.66533089e-01],\n",
       "        [-1.96092854e-02,  1.96092855e-02],\n",
       "        ...,\n",
       "        [-7.85392842e-02,  7.85392851e-02],\n",
       "        [-2.81402380e-02,  2.81402381e-02],\n",
       "        [-8.80783319e-02,  8.80783325e-02]],\n",
       "\n",
       "       [[-8.95107138e-02,  8.95107126e-02],\n",
       "        [-1.21559284e-01,  1.21559284e-01],\n",
       "        [ 1.06445238e-02, -1.06445237e-02],\n",
       "        ...,\n",
       "        [ 1.05929997e-01, -1.05929999e-01],\n",
       "        [-5.11857139e-02,  5.11857134e-02],\n",
       "        [-4.54428568e-02,  4.54428569e-02]],\n",
       "\n",
       "       ...,\n",
       "\n",
       "       [[ 7.07261716e-04, -7.07261799e-04],\n",
       "        [-2.43997020e-01,  2.43997019e-01],\n",
       "        [-2.37261251e-04,  2.37261848e-04],\n",
       "        ...,\n",
       "        [-1.32976783e-01,  1.32976784e-01],\n",
       "        [-7.57317854e-02,  7.57317846e-02],\n",
       "        [ 4.00782138e-02, -4.00782134e-02]],\n",
       "\n",
       "       [[ 1.37457143e-02, -1.37457140e-02],\n",
       "        [ 1.72647377e-01, -1.72647379e-01],\n",
       "        [ 1.51447615e-02, -1.51447617e-02],\n",
       "        ...,\n",
       "        [-2.10054750e-02,  2.10054762e-02],\n",
       "        [ 2.96221423e-02, -2.96221426e-02],\n",
       "        [ 6.17752361e-02, -6.17752378e-02]],\n",
       "\n",
       "       [[-6.44520228e-02,  6.44520230e-02],\n",
       "        [ 2.00089289e-02, -2.00089272e-02],\n",
       "        [ 1.04155950e-02, -1.04155958e-02],\n",
       "        ...,\n",
       "        [-6.43270215e-02,  6.43270236e-02],\n",
       "        [ 5.76924990e-02, -5.76924995e-02],\n",
       "        [-4.71282126e-02,  4.71282139e-02]]])\n",
       "\n",
       ".base_values =\n",
       "array([[0.6639, 0.3361],\n",
       "       [0.6639, 0.3361],\n",
       "       [0.6639, 0.3361],\n",
       "       [0.6639, 0.3361],\n",
       "       [0.6639, 0.3361],\n",
       "       [0.6639, 0.3361],\n",
       "       [0.6639, 0.3361],\n",
       "       [0.6639, 0.3361],\n",
       "       [0.6639, 0.3361],\n",
       "       [0.6639, 0.3361],\n",
       "       [0.6639, 0.3361],\n",
       "       [0.6639, 0.3361],\n",
       "       [0.6639, 0.3361],\n",
       "       [0.6639, 0.3361],\n",
       "       [0.6639, 0.3361],\n",
       "       [0.6639, 0.3361],\n",
       "       [0.6639, 0.3361],\n",
       "       [0.6639, 0.3361],\n",
       "       [0.6639, 0.3361],\n",
       "       [0.6639, 0.3361],\n",
       "       [0.6639, 0.3361],\n",
       "       [0.6639, 0.3361],\n",
       "       [0.6639, 0.3361],\n",
       "       [0.6639, 0.3361],\n",
       "       [0.6639, 0.3361],\n",
       "       [0.6639, 0.3361],\n",
       "       [0.6639, 0.3361],\n",
       "       [0.6639, 0.3361],\n",
       "       [0.6639, 0.3361],\n",
       "       [0.6639, 0.3361],\n",
       "       [0.6639, 0.3361],\n",
       "       [0.6639, 0.3361],\n",
       "       [0.6639, 0.3361],\n",
       "       [0.6639, 0.3361],\n",
       "       [0.6639, 0.3361],\n",
       "       [0.6639, 0.3361],\n",
       "       [0.6639, 0.3361],\n",
       "       [0.6639, 0.3361],\n",
       "       [0.6639, 0.3361],\n",
       "       [0.6639, 0.3361],\n",
       "       [0.6639, 0.3361],\n",
       "       [0.6639, 0.3361],\n",
       "       [0.6639, 0.3361],\n",
       "       [0.6639, 0.3361],\n",
       "       [0.6639, 0.3361],\n",
       "       [0.6639, 0.3361],\n",
       "       [0.6639, 0.3361],\n",
       "       [0.6639, 0.3361],\n",
       "       [0.6639, 0.3361],\n",
       "       [0.6639, 0.3361],\n",
       "       [0.6639, 0.3361],\n",
       "       [0.6639, 0.3361],\n",
       "       [0.6639, 0.3361],\n",
       "       [0.6639, 0.3361],\n",
       "       [0.6639, 0.3361],\n",
       "       [0.6639, 0.3361],\n",
       "       [0.6639, 0.3361],\n",
       "       [0.6639, 0.3361],\n",
       "       [0.6639, 0.3361],\n",
       "       [0.6639, 0.3361],\n",
       "       [0.6639, 0.3361],\n",
       "       [0.6639, 0.3361],\n",
       "       [0.6639, 0.3361],\n",
       "       [0.6639, 0.3361],\n",
       "       [0.6639, 0.3361],\n",
       "       [0.6639, 0.3361],\n",
       "       [0.6639, 0.3361],\n",
       "       [0.6639, 0.3361],\n",
       "       [0.6639, 0.3361],\n",
       "       [0.6639, 0.3361],\n",
       "       [0.6639, 0.3361],\n",
       "       [0.6639, 0.3361],\n",
       "       [0.6639, 0.3361],\n",
       "       [0.6639, 0.3361],\n",
       "       [0.6639, 0.3361],\n",
       "       [0.6639, 0.3361],\n",
       "       [0.6639, 0.3361],\n",
       "       [0.6639, 0.3361],\n",
       "       [0.6639, 0.3361],\n",
       "       [0.6639, 0.3361],\n",
       "       [0.6639, 0.3361],\n",
       "       [0.6639, 0.3361],\n",
       "       [0.6639, 0.3361],\n",
       "       [0.6639, 0.3361],\n",
       "       [0.6639, 0.3361],\n",
       "       [0.6639, 0.3361],\n",
       "       [0.6639, 0.3361],\n",
       "       [0.6639, 0.3361],\n",
       "       [0.6639, 0.3361],\n",
       "       [0.6639, 0.3361],\n",
       "       [0.6639, 0.3361],\n",
       "       [0.6639, 0.3361],\n",
       "       [0.6639, 0.3361],\n",
       "       [0.6639, 0.3361],\n",
       "       [0.6639, 0.3361],\n",
       "       [0.6639, 0.3361],\n",
       "       [0.6639, 0.3361],\n",
       "       [0.6639, 0.3361],\n",
       "       [0.6639, 0.3361],\n",
       "       [0.6639, 0.3361],\n",
       "       [0.6639, 0.3361],\n",
       "       [0.6639, 0.3361],\n",
       "       [0.6639, 0.3361],\n",
       "       [0.6639, 0.3361],\n",
       "       [0.6639, 0.3361],\n",
       "       [0.6639, 0.3361],\n",
       "       [0.6639, 0.3361],\n",
       "       [0.6639, 0.3361],\n",
       "       [0.6639, 0.3361],\n",
       "       [0.6639, 0.3361],\n",
       "       [0.6639, 0.3361],\n",
       "       [0.6639, 0.3361],\n",
       "       [0.6639, 0.3361],\n",
       "       [0.6639, 0.3361],\n",
       "       [0.6639, 0.3361],\n",
       "       [0.6639, 0.3361],\n",
       "       [0.6639, 0.3361],\n",
       "       [0.6639, 0.3361],\n",
       "       [0.6639, 0.3361],\n",
       "       [0.6639, 0.3361],\n",
       "       [0.6639, 0.3361],\n",
       "       [0.6639, 0.3361],\n",
       "       [0.6639, 0.3361],\n",
       "       [0.6639, 0.3361],\n",
       "       [0.6639, 0.3361],\n",
       "       [0.6639, 0.3361],\n",
       "       [0.6639, 0.3361],\n",
       "       [0.6639, 0.3361],\n",
       "       [0.6639, 0.3361],\n",
       "       [0.6639, 0.3361],\n",
       "       [0.6639, 0.3361],\n",
       "       [0.6639, 0.3361],\n",
       "       [0.6639, 0.3361],\n",
       "       [0.6639, 0.3361],\n",
       "       [0.6639, 0.3361],\n",
       "       [0.6639, 0.3361],\n",
       "       [0.6639, 0.3361],\n",
       "       [0.6639, 0.3361],\n",
       "       [0.6639, 0.3361],\n",
       "       [0.6639, 0.3361],\n",
       "       [0.6639, 0.3361],\n",
       "       [0.6639, 0.3361],\n",
       "       [0.6639, 0.3361],\n",
       "       [0.6639, 0.3361],\n",
       "       [0.6639, 0.3361],\n",
       "       [0.6639, 0.3361],\n",
       "       [0.6639, 0.3361],\n",
       "       [0.6639, 0.3361],\n",
       "       [0.6639, 0.3361],\n",
       "       [0.6639, 0.3361],\n",
       "       [0.6639, 0.3361],\n",
       "       [0.6639, 0.3361],\n",
       "       [0.6639, 0.3361],\n",
       "       [0.6639, 0.3361],\n",
       "       [0.6639, 0.3361],\n",
       "       [0.6639, 0.3361],\n",
       "       [0.6639, 0.3361],\n",
       "       [0.6639, 0.3361],\n",
       "       [0.6639, 0.3361],\n",
       "       [0.6639, 0.3361],\n",
       "       [0.6639, 0.3361],\n",
       "       [0.6639, 0.3361],\n",
       "       [0.6639, 0.3361],\n",
       "       [0.6639, 0.3361],\n",
       "       [0.6639, 0.3361],\n",
       "       [0.6639, 0.3361],\n",
       "       [0.6639, 0.3361],\n",
       "       [0.6639, 0.3361],\n",
       "       [0.6639, 0.3361],\n",
       "       [0.6639, 0.3361],\n",
       "       [0.6639, 0.3361],\n",
       "       [0.6639, 0.3361],\n",
       "       [0.6639, 0.3361],\n",
       "       [0.6639, 0.3361],\n",
       "       [0.6639, 0.3361],\n",
       "       [0.6639, 0.3361],\n",
       "       [0.6639, 0.3361],\n",
       "       [0.6639, 0.3361],\n",
       "       [0.6639, 0.3361],\n",
       "       [0.6639, 0.3361],\n",
       "       [0.6639, 0.3361],\n",
       "       [0.6639, 0.3361],\n",
       "       [0.6639, 0.3361],\n",
       "       [0.6639, 0.3361],\n",
       "       [0.6639, 0.3361],\n",
       "       [0.6639, 0.3361],\n",
       "       [0.6639, 0.3361],\n",
       "       [0.6639, 0.3361],\n",
       "       [0.6639, 0.3361],\n",
       "       [0.6639, 0.3361],\n",
       "       [0.6639, 0.3361],\n",
       "       [0.6639, 0.3361],\n",
       "       [0.6639, 0.3361],\n",
       "       [0.6639, 0.3361],\n",
       "       [0.6639, 0.3361],\n",
       "       [0.6639, 0.3361],\n",
       "       [0.6639, 0.3361],\n",
       "       [0.6639, 0.3361],\n",
       "       [0.6639, 0.3361],\n",
       "       [0.6639, 0.3361],\n",
       "       [0.6639, 0.3361],\n",
       "       [0.6639, 0.3361],\n",
       "       [0.6639, 0.3361],\n",
       "       [0.6639, 0.3361],\n",
       "       [0.6639, 0.3361],\n",
       "       [0.6639, 0.3361],\n",
       "       [0.6639, 0.3361],\n",
       "       [0.6639, 0.3361],\n",
       "       [0.6639, 0.3361],\n",
       "       [0.6639, 0.3361],\n",
       "       [0.6639, 0.3361],\n",
       "       [0.6639, 0.3361],\n",
       "       [0.6639, 0.3361],\n",
       "       [0.6639, 0.3361],\n",
       "       [0.6639, 0.3361],\n",
       "       [0.6639, 0.3361],\n",
       "       [0.6639, 0.3361],\n",
       "       [0.6639, 0.3361],\n",
       "       [0.6639, 0.3361],\n",
       "       [0.6639, 0.3361],\n",
       "       [0.6639, 0.3361],\n",
       "       [0.6639, 0.3361],\n",
       "       [0.6639, 0.3361],\n",
       "       [0.6639, 0.3361],\n",
       "       [0.6639, 0.3361],\n",
       "       [0.6639, 0.3361],\n",
       "       [0.6639, 0.3361],\n",
       "       [0.6639, 0.3361],\n",
       "       [0.6639, 0.3361],\n",
       "       [0.6639, 0.3361],\n",
       "       [0.6639, 0.3361]])\n",
       "\n",
       ".data =\n",
       "array([[1.00e+00, 9.00e+01, 6.20e+01, ..., 2.72e+01, 5.80e-01, 2.40e+01],\n",
       "       [7.00e+00, 1.81e+02, 8.40e+01, ..., 3.59e+01, 5.86e-01, 5.10e+01],\n",
       "       [1.30e+01, 1.52e+02, 9.00e+01, ..., 2.68e+01, 7.31e-01, 4.30e+01],\n",
       "       ...,\n",
       "       [0.00e+00, 1.62e+02, 7.60e+01, ..., 5.32e+01, 7.59e-01, 2.50e+01],\n",
       "       [3.00e+00, 8.30e+01, 5.80e+01, ..., 3.43e+01, 3.36e-01, 2.50e+01],\n",
       "       [6.00e+00, 1.17e+02, 9.60e+01, ..., 2.87e+01, 1.57e-01, 3.00e+01]])"
      ]
     },
     "execution_count": 46,
     "metadata": {},
     "output_type": "execute_result"
    }
   ],
   "source": [
    "shap_values"
   ]
  },
  {
   "cell_type": "code",
   "execution_count": 47,
   "id": "352b66dd",
   "metadata": {},
   "outputs": [
    {
     "data": {
      "text/plain": [
       ".values =\n",
       "array([[ 0.0278625 , -0.0278625 ],\n",
       "       [ 0.14339797, -0.14339797],\n",
       "       [ 0.00159964, -0.00159964],\n",
       "       [ 0.03039345, -0.03039345],\n",
       "       [ 0.02685845, -0.02685845],\n",
       "       [ 0.03551488, -0.03551488],\n",
       "       [-0.00946893,  0.00946893],\n",
       "       [ 0.06024202, -0.06024202]])\n",
       "\n",
       ".base_values =\n",
       "array([0.6639, 0.3361])\n",
       "\n",
       ".data =\n",
       "array([ 1.  , 90.  , 62.  , 12.  , 43.  , 27.2 ,  0.58, 24.  ])"
      ]
     },
     "execution_count": 47,
     "metadata": {},
     "output_type": "execute_result"
    }
   ],
   "source": [
    "shap_values[0]"
   ]
  },
  {
   "cell_type": "code",
   "execution_count": 48,
   "id": "fab61408",
   "metadata": {},
   "outputs": [
    {
     "ename": "Exception",
     "evalue": "waterfall_plot requires a scalar base_values of the model output as the first parameter, but you have passed an array as the first parameter! Try shap.waterfall_plot(explainer.base_values[0], values[0], X[0]) or for multi-output models try shap.waterfall_plot(explainer.base_values[0], values[0][0], X[0]).",
     "output_type": "error",
     "traceback": [
      "\u001b[1;31m---------------------------------------------------------------------------\u001b[0m",
      "\u001b[1;31mException\u001b[0m                                 Traceback (most recent call last)",
      "\u001b[1;32m~\\AppData\\Local\\Temp/ipykernel_2328/1132639125.py\u001b[0m in \u001b[0;36m<module>\u001b[1;34m\u001b[0m\n\u001b[1;32m----> 1\u001b[1;33m \u001b[0mshap\u001b[0m\u001b[1;33m.\u001b[0m\u001b[0mplots\u001b[0m\u001b[1;33m.\u001b[0m\u001b[0mwaterfall\u001b[0m\u001b[1;33m(\u001b[0m\u001b[0mshap_values\u001b[0m\u001b[1;33m[\u001b[0m\u001b[1;36m0\u001b[0m\u001b[1;33m]\u001b[0m\u001b[1;33m)\u001b[0m\u001b[1;33m\u001b[0m\u001b[1;33m\u001b[0m\u001b[0m\n\u001b[0m",
      "\u001b[1;32m~\\anaconda3\\lib\\site-packages\\shap\\plots\\_waterfall.py\u001b[0m in \u001b[0;36mwaterfall\u001b[1;34m(shap_values, max_display, show)\u001b[0m\n\u001b[0;32m     52\u001b[0m     \u001b[1;31m# make sure we only have a single output to explain\u001b[0m\u001b[1;33m\u001b[0m\u001b[1;33m\u001b[0m\u001b[0m\n\u001b[0;32m     53\u001b[0m     \u001b[1;32mif\u001b[0m \u001b[1;33m(\u001b[0m\u001b[0mtype\u001b[0m\u001b[1;33m(\u001b[0m\u001b[0mbase_values\u001b[0m\u001b[1;33m)\u001b[0m \u001b[1;33m==\u001b[0m \u001b[0mnp\u001b[0m\u001b[1;33m.\u001b[0m\u001b[0mndarray\u001b[0m \u001b[1;32mand\u001b[0m \u001b[0mlen\u001b[0m\u001b[1;33m(\u001b[0m\u001b[0mbase_values\u001b[0m\u001b[1;33m)\u001b[0m \u001b[1;33m>\u001b[0m \u001b[1;36m0\u001b[0m\u001b[1;33m)\u001b[0m \u001b[1;32mor\u001b[0m \u001b[0mtype\u001b[0m\u001b[1;33m(\u001b[0m\u001b[0mbase_values\u001b[0m\u001b[1;33m)\u001b[0m \u001b[1;33m==\u001b[0m \u001b[0mlist\u001b[0m\u001b[1;33m:\u001b[0m\u001b[1;33m\u001b[0m\u001b[1;33m\u001b[0m\u001b[0m\n\u001b[1;32m---> 54\u001b[1;33m         raise Exception(\"waterfall_plot requires a scalar base_values of the model output as the first \"\n\u001b[0m\u001b[0;32m     55\u001b[0m                         \u001b[1;34m\"parameter, but you have passed an array as the first parameter! \"\u001b[0m\u001b[1;33m\u001b[0m\u001b[1;33m\u001b[0m\u001b[0m\n\u001b[0;32m     56\u001b[0m                         \u001b[1;34m\"Try shap.waterfall_plot(explainer.base_values[0], values[0], X[0]) or \"\u001b[0m\u001b[1;33m\u001b[0m\u001b[1;33m\u001b[0m\u001b[0m\n",
      "\u001b[1;31mException\u001b[0m: waterfall_plot requires a scalar base_values of the model output as the first parameter, but you have passed an array as the first parameter! Try shap.waterfall_plot(explainer.base_values[0], values[0], X[0]) or for multi-output models try shap.waterfall_plot(explainer.base_values[0], values[0][0], X[0])."
     ]
    }
   ],
   "source": [
    "shap.plots.waterfall(shap_values[0])"
   ]
  },
  {
   "cell_type": "code",
   "execution_count": 71,
   "id": "e22324d7",
   "metadata": {},
   "outputs": [
    {
     "name": "stderr",
     "output_type": "stream",
     "text": [
      "X does not have valid feature names, but RandomForestClassifier was fitted with feature names\n"
     ]
    },
    {
     "data": {
      "text/plain": [
       "array([[0.99, 0.01]])"
      ]
     },
     "execution_count": 71,
     "metadata": {},
     "output_type": "execute_result"
    }
   ],
   "source": [
    "model.predict_proba(X_test.iloc[0, :].values.reshape(1, -1))"
   ]
  },
  {
   "cell_type": "code",
   "execution_count": 33,
   "id": "1f7b9add",
   "metadata": {},
   "outputs": [
    {
     "data": {
      "image/png": "[encoded data removed]",
      "text/plain": [
       "<Figure size 576x396 with 3 Axes>"
      ]
     },
     "metadata": {},
     "output_type": "display_data"
    }
   ],
   "source": [
    "shap.plots.waterfall(shap_values[1])"
   ]
  },
  {
   "cell_type": "code",
   "execution_count": 32,
   "id": "78f17268",
   "metadata": {},
   "outputs": [
    {
     "name": "stderr",
     "output_type": "stream",
     "text": [
      "X does not have valid feature names, but LogisticRegression was fitted with feature names\n"
     ]
    },
    {
     "data": {
      "text/plain": [
       "array([[0.15791415, 0.84208585]])"
      ]
     },
     "execution_count": 32,
     "metadata": {},
     "output_type": "execute_result"
    }
   ],
   "source": [
    "logreg.predict_proba(X_test.iloc[1, :].values.reshape(1, -1))"
   ]
  },
  {
   "cell_type": "code",
   "execution_count": 35,
   "id": "8caee5e9",
   "metadata": {},
   "outputs": [
    {
     "data": {
      "image/png": "[encoded data removed]",
      "text/plain": [
       "<Figure size 576x396 with 1 Axes>"
      ]
     },
     "metadata": {},
     "output_type": "display_data"
    }
   ],
   "source": [
    "shap.plots.bar(shap_values)"
   ]
  },
  {
   "cell_type": "code",
   "execution_count": 36,
   "id": "ef610d6d",
   "metadata": {},
   "outputs": [
    {
     "data": {
      "image/png": "[encoded data removed]",
      "text/plain": [
       "<Figure size 576x338.4 with 2 Axes>"
      ]
     },
     "metadata": {
      "needs_background": "light"
     },
     "output_type": "display_data"
    }
   ],
   "source": [
    "shap.plots.beeswarm(shap_values)"
   ]
  }
 ],
 "metadata": {
  "kernelspec": {
   "display_name": "Python 3 (ipykernel)",
   "language": "python",
   "name": "python3"
  },
  "language_info": {
   "codemirror_mode": {
    "name": "ipython",
    "version": 3
   },
   "file_extension": ".py",
   "mimetype": "text/x-python",
   "name": "python",
   "nbconvert_exporter": "python",
   "pygments_lexer": "ipython3",
   "version": "3.9.7"
  }
 },
 "nbformat": 4,
 "nbformat_minor": 5
}
